{
  "nbformat": 4,
  "nbformat_minor": 0,
  "metadata": {
    "colab": {
      "name": "steganography.ipynb",
      "provenance": [],
      "collapsed_sections": []
    },
    "kernelspec": {
      "name": "python3",
      "display_name": "Python 3"
    },
    "language_info": {
      "name": "python"
    }
  },
  "cells": [
    {
      "cell_type": "code",
      "execution_count": null,
      "metadata": {
        "id": "kRXRVqX9A6Zn"
      },
      "outputs": [],
      "source": [
        "import os\n",
        "from PIL import Image\n",
        "import numpy as np"
      ]
    },
    {
      "cell_type": "code",
      "source": [
        "from typing import Coroutine\n",
        "cover_image_path = './cover.jpg'\n",
        "data_image_path = './data.jpg'\n",
        "# cover_image_path = './cover.png'\n",
        "# data_image_path = './data.png'\n",
        "\n",
        "if not (os.path.exists(cover_image_path) and os.path.exists(data_image_path)):\n",
        "    raise ValueError('cover_image_path: \"{}\" or data_image_path: \"{}\" is not exist'.format(cover_image_path, data_image_path))"
      ],
      "metadata": {
        "id": "8IRHgj1gDmV5"
      },
      "execution_count": null,
      "outputs": []
    },
    {
      "cell_type": "code",
      "source": [
        "pixel_bit = 8\n",
        "bit_n = 3\n",
        "stegano_bit = {\n",
        "    1: {\n",
        "        \"cover_mask\": 0b11111110,\n",
        "        \"data_mask\": 0b00000001,\n",
        "    },\n",
        "    2: {\n",
        "        \"cover_mask\": 0b11111100,\n",
        "        \"data_mask\": 0b00000011,\n",
        "    },\n",
        "    3: {\n",
        "        \"cover_mask\": 0b11111000,\n",
        "        \"data_mask\": 0b00000111,\n",
        "    },\n",
        "    4: {\n",
        "        \"cover_mask\": 0b11110000,\n",
        "        \"data_mask\": 0b00001111,\n",
        "    },\n",
        "}"
      ],
      "metadata": {
        "id": "7C1wkw8WM4bJ"
      },
      "execution_count": null,
      "outputs": []
    },
    {
      "cell_type": "code",
      "source": [
        "cover_image = Image.open(cover_image_path)\n",
        "data_image = Image.open(data_image_path)"
      ],
      "metadata": {
        "id": "xp97FLxYBZpI"
      },
      "execution_count": null,
      "outputs": []
    },
    {
      "cell_type": "code",
      "source": [
        "cover_image"
      ],
      "metadata": {
        "id": "EikVzPS7Cm0L"
      },
      "execution_count": null,
      "outputs": []
    },
    {
      "cell_type": "code",
      "source": [
        "data_image"
      ],
      "metadata": {
        "id": "SKsda_cZCw-F"
      },
      "execution_count": null,
      "outputs": []
    },
    {
      "cell_type": "code",
      "source": [
        "cover_image_array = np.array(cover_image)\n",
        "data_image_array = np.array(data_image)\n",
        "print('cover image size: ', cover_image_array.shape)\n",
        "print(' data image size: ', data_image_array.shape)"
      ],
      "metadata": {
        "colab": {
          "base_uri": "https://localhost:8080/"
        },
        "id": "pSPCGflFCzX0",
        "outputId": "efa173a0-8e24-40a6-af19-123cd720f5fb"
      },
      "execution_count": null,
      "outputs": [
        {
          "output_type": "stream",
          "name": "stdout",
          "text": [
            "cover image size:  (1440, 2560, 3)\n",
            " data image size:  (1440, 2560, 3)\n"
          ]
        }
      ]
    },
    {
      "cell_type": "code",
      "source": [
        "if cover_image_array.shape[0] < data_image_array.shape[0] or cover_image_array.shape[1] < data_image_array.shape[1]:\n",
        "    raise ValueError('data image size is over the cover image size.')"
      ],
      "metadata": {
        "id": "GfRURRoPGVXQ"
      },
      "execution_count": null,
      "outputs": []
    },
    {
      "cell_type": "code",
      "source": [
        "cover_mask = stegano_bit[bit_n][\"cover_mask\"]\n",
        "data_mask = stegano_bit[bit_n][\"data_mask\"]\n",
        "stegano_image_array = cover_image_array\n",
        "for y in range(data_image_array.shape[0]):\n",
        "    for x in range(data_image_array.shape[1]):\n",
        "        stegano_image_array[y, x, 0] = (cover_image_array[y, x, 0] & cover_mask) + (data_image_array[y, x, 0] >> (pixel_bit - bit_n))\n",
        "        stegano_image_array[y, x, 1] = (cover_image_array[y, x, 1] & cover_mask) + (data_image_array[y, x, 1] >> (pixel_bit - bit_n))\n",
        "        stegano_image_array[y, x, 2] = (cover_image_array[y, x, 2] & cover_mask) + (data_image_array[y, x, 2] >> (pixel_bit - bit_n))"
      ],
      "metadata": {
        "id": "KrDg7Ba5GuNR"
      },
      "execution_count": null,
      "outputs": []
    },
    {
      "cell_type": "code",
      "source": [
        "stegano_image = Image.fromarray(stegano_image_array)\n",
        "stegano_image"
      ],
      "metadata": {
        "id": "oknjeoYGJmzF"
      },
      "execution_count": null,
      "outputs": []
    },
    {
      "cell_type": "code",
      "source": [
        "stegano_image_path = './stegano.png'\n",
        "stegano_image.save(stegano_image_path)"
      ],
      "metadata": {
        "id": "zqxWDvq-Ou5i"
      },
      "execution_count": null,
      "outputs": []
    },
    {
      "cell_type": "code",
      "source": [
        "stegano_image_array = np.array(Image.open(stegano_image_path))"
      ],
      "metadata": {
        "id": "_hul4eKtQL4t"
      },
      "execution_count": null,
      "outputs": []
    },
    {
      "cell_type": "code",
      "source": [
        "extract_image_array = np.zeros_like(stegano_image_array)\n",
        "if extract_image_array.shape[2] == 4:\n",
        "    extract_image_array[:, :, 3] = 255\n",
        "for y in range(stegano_image_array.shape[0]):\n",
        "    for x in range(stegano_image_array.shape[1]):\n",
        "        extract_image_array[y, x, 0] = (stegano_image_array[y, x, 0] << (pixel_bit - bit_n)) \n",
        "        extract_image_array[y, x, 1] = (stegano_image_array[y, x, 1] << (pixel_bit - bit_n))\n",
        "        extract_image_array[y, x, 2] = (stegano_image_array[y, x, 2] << (pixel_bit - bit_n))"
      ],
      "metadata": {
        "id": "-2I3HfsdPMTm"
      },
      "execution_count": null,
      "outputs": []
    },
    {
      "cell_type": "code",
      "source": [
        "extract_image = Image.fromarray(extract_image_array)\n",
        "extract_image"
      ],
      "metadata": {
        "id": "JmP96shVQ4_3"
      },
      "execution_count": null,
      "outputs": []
    },
    {
      "cell_type": "code",
      "source": [
        "extract_image.save('./stegano_decode.png')"
      ],
      "metadata": {
        "id": "-eRC-bLhQuus"
      },
      "execution_count": null,
      "outputs": []
    }
  ]
}